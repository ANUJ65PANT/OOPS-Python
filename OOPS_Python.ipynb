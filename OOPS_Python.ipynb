{
  "nbformat": 4,
  "nbformat_minor": 0,
  "metadata": {
    "colab": {
      "provenance": []
    },
    "kernelspec": {
      "name": "python3",
      "display_name": "Python 3"
    },
    "language_info": {
      "name": "python"
    }
  },
  "cells": [
    {
      "cell_type": "markdown",
      "source": [
        "#Python OOPs Concepts\n",
        "\n",
        "#1. What is Object-Oriented Programming (OOP)?\n",
        "   A programming style based on using objects and classes to model real-world entities.\n",
        "\n",
        "#2. What is a class in OOP?\n",
        "   A class is a blueprint for creating objects with specific attributes and methods.\n",
        "\n",
        "#3. What is an object in OOP?\n",
        "   An object is an instance of a class with its own data and behavior.\n",
        "\n",
        "#4. Difference between abstraction and encapsulation:\n",
        "\n",
        "   Abstraction hides complex implementation.\n",
        "   Encapsulation hides internal data using access modifiers.\n",
        "\n",
        "#5. What are dunder methods in Python?\n",
        "   Special methods with double underscores, like `__init__`, `__str__`, `__len__`.\n",
        "\n",
        "#6. Explain inheritance in OOP:\n",
        "   It allows a class to inherit properties and methods from another class.\n",
        "\n",
        "#7. What is polymorphism in OOP?\n",
        "   The ability to use the same method name for different types or classes.\n",
        "\n",
        "#8. How is encapsulation achieved in Python?\n",
        "   By using private variables (`__var`) and getter/setter methods.\n",
        "\n",
        "#9. What is a constructor in Python?\n",
        "   The `__init__()` method used to initialize objects.\n",
        "\n",
        "#10.What are class and static methods in Python?\n",
        "\n",
        "    @classmethod takes `cls` as the first argument.\n",
        "    @staticmethod doesn’t take `self` or `cls`.\n",
        "\n",
        "#11. What is method overloading in Python?\n",
        "    Python does not support method overloading directly; you can use default arguments.\n",
        "\n",
        "#12. What is method overriding in OOP?\n",
        "    Redefining a parent class method in a child class.\n",
        "\n",
        "#13. What is a property decorator in Python?\n",
        "    `@property` is used to make a method behave like an attribute.\n",
        "\n",
        "#14. Why is polymorphism important in OOP?\n",
        "    It allows flexibility and reusability by handling different object types through a common interface.\n",
        "\n",
        "#15. What is an abstract class in Python?\n",
        "    A class with abstract methods, defined using `abc` module, that can't be instantiated directly.\n",
        "\n",
        "#16. Advantages of OOP:\n",
        "    Reusability, scalability, modularity, and maintainability.\n",
        "\n",
        "#17. Difference between class and instance variable:\n",
        "\n",
        "    Class variable is shared among all instances.\n",
        "    Instance variable is unique to each object.\n",
        "\n",
        "#18. What is multiple inheritance in Python?\n",
        "    A class inheriting from more than one parent class.\n",
        "\n",
        "#19. Purpose of `__str__` and `__repr__`:\n",
        "\n",
        "    `__str__` → user-friendly string.\n",
        "    `__repr__` → developer-friendly string.\n",
        "\n",
        "#20. Significance of `super()` in Python:\n",
        "    Used to call methods from the parent class.\n",
        "\n",
        "#21. Significance of `__del__` method:\n",
        "    Called when an object is deleted or garbage collected.\n",
        "\n",
        "#22. Difference between @staticmethod and @classmethod:\n",
        "\n",
        "    @classmethod` takes class as argument.\n",
        "    @staticmethod` takes no class or instance reference.\n",
        "\n",
        "#23. How does polymorphism work with inheritance?\n",
        "    Child classes override parent methods; same method behaves differently.\n",
        "\n",
        "#24. What is method chaining in Python OOP?\n",
        "    Calling multiple methods on the same object using `return self`.\n",
        "\n",
        "#25. Purpose of `__call__` method in Python:\n",
        "    Makes an object behave like a function.\n",
        "\n"
      ],
      "metadata": {
        "id": "GH1Alr3aB9Bn"
      }
    },
    {
      "cell_type": "code",
      "source": [
        "#1. Animal/Dog inheritance:\n",
        "\n",
        "class Animal:\n",
        "    def speak(self):\n",
        "        print(\"Animal speaks\")\n",
        "\n",
        "class Dog(Animal):\n",
        "    def speak(self):\n",
        "        print(\"Bark!\")\n",
        "\n",
        "\n"
      ],
      "metadata": {
        "id": "w20-NiudCYNg"
      },
      "execution_count": 8,
      "outputs": []
    },
    {
      "cell_type": "code",
      "source": [
        "#2. Abstract class Shape:\n",
        "\n",
        "from abc import ABC, abstractmethod\n",
        "\n",
        "class Shape(ABC):\n",
        "    @abstractmethod\n",
        "    def area(self):\n",
        "        pass\n",
        "\n",
        "class Circle(Shape):\n",
        "    def __init__(self, radius):\n",
        "        self.radius = radius\n",
        "    def area(self):\n",
        "        return 3.14 * self.radius**2\n",
        "\n",
        "class Rectangle(Shape):\n",
        "    def __init__(self, width, height):\n",
        "        self.width = width\n",
        "        self.height = height\n",
        "    def area(self):\n",
        "        return self.width * self.height"
      ],
      "metadata": {
        "id": "oQZb2jEME_O1"
      },
      "execution_count": 9,
      "outputs": []
    },
    {
      "cell_type": "code",
      "source": [
        "#3. Multilevel Inheritance:\n",
        "\n",
        "\n",
        "class Vehicle:\n",
        "    def __init__(self, type):\n",
        "        self.type = type\n",
        "\n",
        "class Car(Vehicle):\n",
        "    def __init__(self, type, brand):\n",
        "        super().__init__(type)\n",
        "        self.brand = brand\n",
        "\n",
        "class ElectricCar(Car):\n",
        "    def __init__(self, type, brand, battery):\n",
        "        super().__init__(type, brand)\n",
        "        self.battery = battery\n"
      ],
      "metadata": {
        "id": "Z2kdd4BlEyl3"
      },
      "execution_count": 10,
      "outputs": []
    },
    {
      "cell_type": "code",
      "source": [
        "#4. Polymorphism:\n",
        "\n",
        "class Bird:\n",
        "    def fly(self):\n",
        "        print(\"Bird flies\")\n",
        "\n",
        "class Sparrow(Bird):\n",
        "    def fly(self):\n",
        "        print(\"Sparrow flies\")\n",
        "\n",
        "class Penguin(Bird):\n",
        "    def fly(self):\n",
        "        print(\"Penguin can't fly\")"
      ],
      "metadata": {
        "id": "cxpGHcwTEeLq"
      },
      "execution_count": 11,
      "outputs": []
    },
    {
      "cell_type": "code",
      "source": [
        "#5. Encapsulation:\n",
        "\n",
        "\n",
        "class BankAccount:\n",
        "    def __init__(self):\n",
        "        self.__balance = 0\n",
        "\n",
        "    def deposit(self, amount):\n",
        "        self.__balance += amount\n",
        "\n",
        "    def withdraw(self, amount):\n",
        "        if amount <= self.__balance:\n",
        "            self.__balance -= amount\n",
        "\n",
        "    def get_balance(self):\n",
        "        return self.__balance"
      ],
      "metadata": {
        "id": "bFRjxEVxEYgB"
      },
      "execution_count": 12,
      "outputs": []
    },
    {
      "cell_type": "code",
      "source": [
        "#6. Runtime Polymorphism:\n",
        "\n",
        "class Instrument:\n",
        "    def play(self):\n",
        "        print(\"Playing instrument\")\n",
        "\n",
        "class Guitar(Instrument):\n",
        "    def play(self):\n",
        "        print(\"Playing Guitar\")\n",
        "\n",
        "class Piano(Instrument):\n",
        "    def play(self):\n",
        "        print(\"Playing Piano\")"
      ],
      "metadata": {
        "id": "2rjB79EjEOzu"
      },
      "execution_count": 13,
      "outputs": []
    },
    {
      "cell_type": "code",
      "source": [
        "#7. MathOperations class:\n",
        "\n",
        "class MathOperations:\n",
        "    @classmethod\n",
        "    def add_numbers(cls, a, b):\n",
        "        return a + b\n",
        "\n",
        "    @staticmethod\n",
        "    def subtract_numbers(a, b):\n",
        "        return a - b"
      ],
      "metadata": {
        "id": "1sKlXIdhEI9i"
      },
      "execution_count": 14,
      "outputs": []
    },
    {
      "cell_type": "code",
      "source": [
        "#8. Counting Person objects:\n",
        "\n",
        "class Person:\n",
        "    count = 0\n",
        "\n",
        "    def __init__(self):\n",
        "        Person.count += 1\n",
        "\n",
        "    @classmethod\n",
        "    def get_count(cls):\n",
        "        return cls.count"
      ],
      "metadata": {
        "id": "qRGc71BeEB_K"
      },
      "execution_count": 15,
      "outputs": []
    },
    {
      "cell_type": "code",
      "source": [
        "#9. Fraction with str:\n",
        "\n",
        "\n",
        "class Fraction:\n",
        "    def __init__(self, num, den):\n",
        "        self.num = num\n",
        "        self.den = den\n",
        "\n",
        "    def __str__(self):\n",
        "        return f\"{self.num}/{self.den}\""
      ],
      "metadata": {
        "id": "dT9kPgu5D7Gy"
      },
      "execution_count": 16,
      "outputs": []
    },
    {
      "cell_type": "code",
      "source": [
        "#10. Vector operator overloading:\n",
        "\n",
        "\n",
        "class Vector:\n",
        "    def __init__(self, x, y):\n",
        "        self.x = x\n",
        "        self.y = y\n",
        "\n",
        "    def __add__(self, other):\n",
        "        return Vector(self.x + other.x, self.y + other.y)\n"
      ],
      "metadata": {
        "id": "-upa7586Dwo2"
      },
      "execution_count": 17,
      "outputs": []
    },
    {
      "cell_type": "code",
      "source": [
        "#11. Person greet():\n",
        "\n",
        "\n",
        "class Person:\n",
        "    def __init__(self, name, age):\n",
        "        self.name = name\n",
        "        self.age = age\n",
        "\n",
        "    def greet(self):\n",
        "        print(f\"Hello, my name is {self.name} and I am {self.age} years old.\")\n",
        "\n"
      ],
      "metadata": {
        "id": "_QxCSIV8DlVa"
      },
      "execution_count": 18,
      "outputs": []
    },
    {
      "cell_type": "code",
      "source": [
        "\n",
        "#12. Student average\\_grade():\n",
        "\n",
        "\n",
        "class Student:\n",
        "    def __init__(self, name, grades):\n",
        "        self.name = name\n",
        "        self.grades = grades\n",
        "\n",
        "    def average_grade(self):\n",
        "        return sum(self.grades) / len(self.grades)"
      ],
      "metadata": {
        "id": "AOVKayUMDdV4"
      },
      "execution_count": 19,
      "outputs": []
    },
    {
      "cell_type": "code",
      "source": [
        "#13. Rectangle set\\_dimensions & area():\n",
        "\n",
        "\n",
        "class Rectangle:\n",
        "    def set_dimensions(self, width, height):\n",
        "        self.width = width\n",
        "        self.height = height\n",
        "\n",
        "    def area(self):\n",
        "        return self.width * self.height"
      ],
      "metadata": {
        "id": "6XSfTQBUDW8p"
      },
      "execution_count": 20,
      "outputs": []
    },
    {
      "cell_type": "code",
      "source": [
        "#14. Employee/Manager salary calculation:\n",
        "\n",
        "\n",
        "class Employee:\n",
        "    def calculate_salary(self, hours, rate):\n",
        "        return hours * rate\n",
        "\n",
        "class Manager(Employee):\n",
        "    def calculate_salary(self, hours, rate, bonus):\n",
        "        return super().calculate_salary(hours, rate) + bonus\n"
      ],
      "metadata": {
        "id": "mpw1F18EDPeu"
      },
      "execution_count": 21,
      "outputs": []
    },
    {
      "cell_type": "code",
      "source": [
        "#15. Product total\\_price():\n",
        "\n",
        "\n",
        "class Product:\n",
        "    def __init__(self, name, price, quantity):\n",
        "        self.name = name\n",
        "        self.price = price\n",
        "        self.quantity = quantity\n",
        "\n",
        "    def total_price(self):\n",
        "        return self.price * self.quantity"
      ],
      "metadata": {
        "id": "5cV8zEXwDIup"
      },
      "execution_count": 6,
      "outputs": []
    },
    {
      "cell_type": "code",
      "source": [
        "#16.Animal abstract method:\n",
        "\n",
        "\n",
        "from abc import ABC, abstractmethod\n",
        "\n",
        "class Animal(ABC):\n",
        "    @abstractmethod\n",
        "    def sound(self):\n",
        "        pass\n",
        "\n",
        "class Cow(Animal):\n",
        "    def sound(self):\n",
        "        print(\"Moo\")\n",
        "\n",
        "class Sheep(Animal):\n",
        "    def sound(self):\n",
        "        print(\"Baa\")\n",
        "\n",
        "\n"
      ],
      "metadata": {
        "id": "7DKnULhDC5Mu"
      },
      "execution_count": 5,
      "outputs": []
    },
    {
      "cell_type": "code",
      "source": [
        "#17. Book get\\_book\\_info():\n",
        "\n",
        "class Book:\n",
        "    def __init__(self, title, author, year):\n",
        "        self.title = title\n",
        "        self.author = author\n",
        "        self.year = year\n",
        "\n",
        "    def get_book_info(self):\n",
        "        return f\"{self.title} by {self.author}, published in {self.year}\"\n",
        "\n"
      ],
      "metadata": {
        "id": "93Yyf4VPCw80"
      },
      "execution_count": 4,
      "outputs": []
    },
    {
      "cell_type": "code",
      "source": [
        "#18. House and Mansion:\n",
        "\n",
        "\n",
        "class House:\n",
        "    def __init__(self, address, price):\n",
        "        self.address = address\n",
        "        self.price = price\n",
        "\n",
        "class Mansion(House):\n",
        "    def __init__(self, address, price, rooms):\n",
        "        super().__init__(address, price)\n",
        "        self.rooms = rooms"
      ],
      "metadata": {
        "id": "PlDS81IzCogk"
      },
      "execution_count": 3,
      "outputs": []
    }
  ]
}